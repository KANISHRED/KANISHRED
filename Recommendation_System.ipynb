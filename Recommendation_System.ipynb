{
  "cells": [
    {
      "cell_type": "markdown",
      "metadata": {
        "id": "view-in-github",
        "colab_type": "text"
      },
      "source": [
        "<a href=\"https://colab.research.google.com/github/KANISHRED/KANISHRED/blob/main/Recommendation_System.ipynb\" target=\"_parent\"><img src=\"https://colab.research.google.com/assets/colab-badge.svg\" alt=\"Open In Colab\"/></a>"
      ]
    },
    {
      "cell_type": "code",
      "execution_count": null,
      "id": "8ca2871c-b887-41f1-ab45-9af1732ea089",
      "metadata": {
        "id": "8ca2871c-b887-41f1-ab45-9af1732ea089",
        "outputId": "5bc33bd0-17fc-41f5-ec9a-ba380dfa7c2f"
      },
      "outputs": [
        {
          "name": "stdout",
          "output_type": "stream",
          "text": [
            "['rating.csv', 'tag.csv', 'genome_scores.csv', 'genome_tags.csv', 'link.csv', 'movie.csv']\n"
          ]
        }
      ],
      "source": [
        "import os\n",
        "print(os.listdir(\"archive\"))"
      ]
    },
    {
      "cell_type": "code",
      "execution_count": null,
      "id": "c51ef968-1724-4464-a803-17870ce459a6",
      "metadata": {
        "id": "c51ef968-1724-4464-a803-17870ce459a6"
      },
      "outputs": [],
      "source": [
        "import pandas as pd"
      ]
    },
    {
      "cell_type": "code",
      "execution_count": null,
      "id": "e887e270-6923-4434-9b96-d4b265f92982",
      "metadata": {
        "id": "e887e270-6923-4434-9b96-d4b265f92982",
        "outputId": "96ac9d36-ef15-4b02-c5d4-102289d8d802"
      },
      "outputs": [
        {
          "data": {
            "text/plain": [
              "Index(['movieId', 'title', 'genres'], dtype='object')"
            ]
          },
          "execution_count": 37,
          "metadata": {},
          "output_type": "execute_result"
        }
      ],
      "source": [
        "# import movie data set and look at columns\n",
        "movie = pd.read_csv(\"archive/movie.csv\")\n",
        "movie.columns"
      ]
    },
    {
      "cell_type": "code",
      "execution_count": null,
      "id": "ceda194b-103c-465f-9636-de10e51380e1",
      "metadata": {
        "id": "ceda194b-103c-465f-9636-de10e51380e1",
        "outputId": "2d3ae82d-f46f-4982-cb9e-7b7b5cc76b3a"
      },
      "outputs": [
        {
          "data": {
            "text/html": [
              "<div>\n",
              "<style scoped>\n",
              "    .dataframe tbody tr th:only-of-type {\n",
              "        vertical-align: middle;\n",
              "    }\n",
              "\n",
              "    .dataframe tbody tr th {\n",
              "        vertical-align: top;\n",
              "    }\n",
              "\n",
              "    .dataframe thead th {\n",
              "        text-align: right;\n",
              "    }\n",
              "</style>\n",
              "<table border=\"1\" class=\"dataframe\">\n",
              "  <thead>\n",
              "    <tr style=\"text-align: right;\">\n",
              "      <th></th>\n",
              "      <th>movieId</th>\n",
              "      <th>title</th>\n",
              "    </tr>\n",
              "  </thead>\n",
              "  <tbody>\n",
              "    <tr>\n",
              "      <th>0</th>\n",
              "      <td>1</td>\n",
              "      <td>Toy Story (1995)</td>\n",
              "    </tr>\n",
              "    <tr>\n",
              "      <th>1</th>\n",
              "      <td>2</td>\n",
              "      <td>Jumanji (1995)</td>\n",
              "    </tr>\n",
              "    <tr>\n",
              "      <th>2</th>\n",
              "      <td>3</td>\n",
              "      <td>Grumpier Old Men (1995)</td>\n",
              "    </tr>\n",
              "    <tr>\n",
              "      <th>3</th>\n",
              "      <td>4</td>\n",
              "      <td>Waiting to Exhale (1995)</td>\n",
              "    </tr>\n",
              "    <tr>\n",
              "      <th>4</th>\n",
              "      <td>5</td>\n",
              "      <td>Father of the Bride Part II (1995)</td>\n",
              "    </tr>\n",
              "    <tr>\n",
              "      <th>5</th>\n",
              "      <td>6</td>\n",
              "      <td>Heat (1995)</td>\n",
              "    </tr>\n",
              "    <tr>\n",
              "      <th>6</th>\n",
              "      <td>7</td>\n",
              "      <td>Sabrina (1995)</td>\n",
              "    </tr>\n",
              "    <tr>\n",
              "      <th>7</th>\n",
              "      <td>8</td>\n",
              "      <td>Tom and Huck (1995)</td>\n",
              "    </tr>\n",
              "    <tr>\n",
              "      <th>8</th>\n",
              "      <td>9</td>\n",
              "      <td>Sudden Death (1995)</td>\n",
              "    </tr>\n",
              "    <tr>\n",
              "      <th>9</th>\n",
              "      <td>10</td>\n",
              "      <td>GoldenEye (1995)</td>\n",
              "    </tr>\n",
              "  </tbody>\n",
              "</table>\n",
              "</div>"
            ],
            "text/plain": [
              "   movieId                               title\n",
              "0        1                    Toy Story (1995)\n",
              "1        2                      Jumanji (1995)\n",
              "2        3             Grumpier Old Men (1995)\n",
              "3        4            Waiting to Exhale (1995)\n",
              "4        5  Father of the Bride Part II (1995)\n",
              "5        6                         Heat (1995)\n",
              "6        7                      Sabrina (1995)\n",
              "7        8                 Tom and Huck (1995)\n",
              "8        9                 Sudden Death (1995)\n",
              "9       10                    GoldenEye (1995)"
            ]
          },
          "execution_count": 38,
          "metadata": {},
          "output_type": "execute_result"
        }
      ],
      "source": [
        "# what we need is that movie id and title\n",
        "movie = movie.loc[:,[\"movieId\",\"title\"]]\n",
        "movie.head(10)\n"
      ]
    },
    {
      "cell_type": "code",
      "execution_count": null,
      "id": "8fb38b86-eb0b-459b-b75f-9baef9fa1718",
      "metadata": {
        "id": "8fb38b86-eb0b-459b-b75f-9baef9fa1718",
        "outputId": "f8a97913-a2fe-4380-9fff-1b259520b973"
      },
      "outputs": [
        {
          "data": {
            "text/plain": [
              "Index(['userId', 'movieId', 'rating', 'timestamp'], dtype='object')"
            ]
          },
          "execution_count": 39,
          "metadata": {},
          "output_type": "execute_result"
        }
      ],
      "source": [
        "# import rating data and look at columsn\n",
        "rating = pd.read_csv(\"archive/rating.csv\")\n",
        "rating.columns\n"
      ]
    },
    {
      "cell_type": "code",
      "execution_count": null,
      "id": "0cba5cc9-96a2-4385-a1e7-86a75f840acc",
      "metadata": {
        "id": "0cba5cc9-96a2-4385-a1e7-86a75f840acc",
        "outputId": "bd84d317-9fb4-4c61-bd10-2cd77f571926"
      },
      "outputs": [
        {
          "data": {
            "text/html": [
              "<div>\n",
              "<style scoped>\n",
              "    .dataframe tbody tr th:only-of-type {\n",
              "        vertical-align: middle;\n",
              "    }\n",
              "\n",
              "    .dataframe tbody tr th {\n",
              "        vertical-align: top;\n",
              "    }\n",
              "\n",
              "    .dataframe thead th {\n",
              "        text-align: right;\n",
              "    }\n",
              "</style>\n",
              "<table border=\"1\" class=\"dataframe\">\n",
              "  <thead>\n",
              "    <tr style=\"text-align: right;\">\n",
              "      <th></th>\n",
              "      <th>userId</th>\n",
              "      <th>movieId</th>\n",
              "      <th>rating</th>\n",
              "    </tr>\n",
              "  </thead>\n",
              "  <tbody>\n",
              "    <tr>\n",
              "      <th>0</th>\n",
              "      <td>1</td>\n",
              "      <td>2</td>\n",
              "      <td>3.5</td>\n",
              "    </tr>\n",
              "    <tr>\n",
              "      <th>1</th>\n",
              "      <td>1</td>\n",
              "      <td>29</td>\n",
              "      <td>3.5</td>\n",
              "    </tr>\n",
              "    <tr>\n",
              "      <th>2</th>\n",
              "      <td>1</td>\n",
              "      <td>32</td>\n",
              "      <td>3.5</td>\n",
              "    </tr>\n",
              "    <tr>\n",
              "      <th>3</th>\n",
              "      <td>1</td>\n",
              "      <td>47</td>\n",
              "      <td>3.5</td>\n",
              "    </tr>\n",
              "    <tr>\n",
              "      <th>4</th>\n",
              "      <td>1</td>\n",
              "      <td>50</td>\n",
              "      <td>3.5</td>\n",
              "    </tr>\n",
              "    <tr>\n",
              "      <th>5</th>\n",
              "      <td>1</td>\n",
              "      <td>112</td>\n",
              "      <td>3.5</td>\n",
              "    </tr>\n",
              "    <tr>\n",
              "      <th>6</th>\n",
              "      <td>1</td>\n",
              "      <td>151</td>\n",
              "      <td>4.0</td>\n",
              "    </tr>\n",
              "    <tr>\n",
              "      <th>7</th>\n",
              "      <td>1</td>\n",
              "      <td>223</td>\n",
              "      <td>4.0</td>\n",
              "    </tr>\n",
              "    <tr>\n",
              "      <th>8</th>\n",
              "      <td>1</td>\n",
              "      <td>253</td>\n",
              "      <td>4.0</td>\n",
              "    </tr>\n",
              "    <tr>\n",
              "      <th>9</th>\n",
              "      <td>1</td>\n",
              "      <td>260</td>\n",
              "      <td>4.0</td>\n",
              "    </tr>\n",
              "  </tbody>\n",
              "</table>\n",
              "</div>"
            ],
            "text/plain": [
              "   userId  movieId  rating\n",
              "0       1        2     3.5\n",
              "1       1       29     3.5\n",
              "2       1       32     3.5\n",
              "3       1       47     3.5\n",
              "4       1       50     3.5\n",
              "5       1      112     3.5\n",
              "6       1      151     4.0\n",
              "7       1      223     4.0\n",
              "8       1      253     4.0\n",
              "9       1      260     4.0"
            ]
          },
          "execution_count": 40,
          "metadata": {},
          "output_type": "execute_result"
        }
      ],
      "source": [
        "# what we need is that user id, movie id and rating\n",
        "rating = rating.loc[:,[\"userId\",\"movieId\",\"rating\"]]\n",
        "rating.head(10)\n"
      ]
    },
    {
      "cell_type": "code",
      "execution_count": null,
      "id": "167d2333-1065-46fd-8a1a-2eaa04d7fe12",
      "metadata": {
        "id": "167d2333-1065-46fd-8a1a-2eaa04d7fe12"
      },
      "outputs": [],
      "source": [
        "# then merge movie and rating data\n",
        "data = pd.merge(movie,rating,on = \"movieId\")\n"
      ]
    },
    {
      "cell_type": "code",
      "execution_count": null,
      "id": "dc29ef21-0bc7-48bc-b10d-d618bf0a380b",
      "metadata": {
        "id": "dc29ef21-0bc7-48bc-b10d-d618bf0a380b",
        "outputId": "d60a001d-9d5a-4697-8cb1-18a94c5a011b"
      },
      "outputs": [
        {
          "data": {
            "text/html": [
              "<div>\n",
              "<style scoped>\n",
              "    .dataframe tbody tr th:only-of-type {\n",
              "        vertical-align: middle;\n",
              "    }\n",
              "\n",
              "    .dataframe tbody tr th {\n",
              "        vertical-align: top;\n",
              "    }\n",
              "\n",
              "    .dataframe thead th {\n",
              "        text-align: right;\n",
              "    }\n",
              "</style>\n",
              "<table border=\"1\" class=\"dataframe\">\n",
              "  <thead>\n",
              "    <tr style=\"text-align: right;\">\n",
              "      <th></th>\n",
              "      <th>movieId</th>\n",
              "      <th>title</th>\n",
              "      <th>userId</th>\n",
              "      <th>rating</th>\n",
              "    </tr>\n",
              "  </thead>\n",
              "  <tbody>\n",
              "    <tr>\n",
              "      <th>0</th>\n",
              "      <td>1</td>\n",
              "      <td>Toy Story (1995)</td>\n",
              "      <td>3</td>\n",
              "      <td>4.0</td>\n",
              "    </tr>\n",
              "    <tr>\n",
              "      <th>1</th>\n",
              "      <td>1</td>\n",
              "      <td>Toy Story (1995)</td>\n",
              "      <td>6</td>\n",
              "      <td>5.0</td>\n",
              "    </tr>\n",
              "    <tr>\n",
              "      <th>2</th>\n",
              "      <td>1</td>\n",
              "      <td>Toy Story (1995)</td>\n",
              "      <td>8</td>\n",
              "      <td>4.0</td>\n",
              "    </tr>\n",
              "    <tr>\n",
              "      <th>3</th>\n",
              "      <td>1</td>\n",
              "      <td>Toy Story (1995)</td>\n",
              "      <td>10</td>\n",
              "      <td>4.0</td>\n",
              "    </tr>\n",
              "    <tr>\n",
              "      <th>4</th>\n",
              "      <td>1</td>\n",
              "      <td>Toy Story (1995)</td>\n",
              "      <td>11</td>\n",
              "      <td>4.5</td>\n",
              "    </tr>\n",
              "    <tr>\n",
              "      <th>5</th>\n",
              "      <td>1</td>\n",
              "      <td>Toy Story (1995)</td>\n",
              "      <td>12</td>\n",
              "      <td>4.0</td>\n",
              "    </tr>\n",
              "    <tr>\n",
              "      <th>6</th>\n",
              "      <td>1</td>\n",
              "      <td>Toy Story (1995)</td>\n",
              "      <td>13</td>\n",
              "      <td>4.0</td>\n",
              "    </tr>\n",
              "    <tr>\n",
              "      <th>7</th>\n",
              "      <td>1</td>\n",
              "      <td>Toy Story (1995)</td>\n",
              "      <td>14</td>\n",
              "      <td>4.5</td>\n",
              "    </tr>\n",
              "    <tr>\n",
              "      <th>8</th>\n",
              "      <td>1</td>\n",
              "      <td>Toy Story (1995)</td>\n",
              "      <td>16</td>\n",
              "      <td>3.0</td>\n",
              "    </tr>\n",
              "    <tr>\n",
              "      <th>9</th>\n",
              "      <td>1</td>\n",
              "      <td>Toy Story (1995)</td>\n",
              "      <td>19</td>\n",
              "      <td>5.0</td>\n",
              "    </tr>\n",
              "  </tbody>\n",
              "</table>\n",
              "</div>"
            ],
            "text/plain": [
              "   movieId             title  userId  rating\n",
              "0        1  Toy Story (1995)       3     4.0\n",
              "1        1  Toy Story (1995)       6     5.0\n",
              "2        1  Toy Story (1995)       8     4.0\n",
              "3        1  Toy Story (1995)      10     4.0\n",
              "4        1  Toy Story (1995)      11     4.5\n",
              "5        1  Toy Story (1995)      12     4.0\n",
              "6        1  Toy Story (1995)      13     4.0\n",
              "7        1  Toy Story (1995)      14     4.5\n",
              "8        1  Toy Story (1995)      16     3.0\n",
              "9        1  Toy Story (1995)      19     5.0"
            ]
          },
          "execution_count": 42,
          "metadata": {},
          "output_type": "execute_result"
        }
      ],
      "source": [
        "# now lets look at our data\n",
        "data.head(10)\n"
      ]
    },
    {
      "cell_type": "raw",
      "id": "4dc82552-0969-4dae-b94f-a75f0b4a454b",
      "metadata": {
        "id": "4dc82552-0969-4dae-b94f-a75f0b4a454b"
      },
      "source": [
        "As it can be seen data frame that is above, we have 4 features that are movie id, title user id and rating\n",
        "According to these data frame, we will make item based recommendation system\n",
        "Lets look at shape of the data. The number of sample in data frame is 20 million that is too much.\n",
        "Therefore, in order to learn item based recommendation system lets use 1 million of sample in data."
      ]
    },
    {
      "cell_type": "code",
      "execution_count": null,
      "id": "9e649e23-18b2-4fc7-93b7-b15d658057a1",
      "metadata": {
        "id": "9e649e23-18b2-4fc7-93b7-b15d658057a1",
        "outputId": "745dd015-e0b5-4a85-8ff8-c96ee00fc62e"
      },
      "outputs": [
        {
          "data": {
            "text/plain": [
              "(20000263, 4)"
            ]
          },
          "execution_count": 43,
          "metadata": {},
          "output_type": "execute_result"
        }
      ],
      "source": [
        "data.shape\n"
      ]
    },
    {
      "cell_type": "code",
      "execution_count": null,
      "id": "e01a7333-dc4d-44d1-9a81-03dd3400fa27",
      "metadata": {
        "id": "e01a7333-dc4d-44d1-9a81-03dd3400fa27"
      },
      "outputs": [],
      "source": [
        "data = data.iloc[:1000000,:]\n"
      ]
    },
    {
      "cell_type": "code",
      "execution_count": null,
      "id": "45e580ad-0ee2-4280-93a6-1d0624aa75ae",
      "metadata": {
        "id": "45e580ad-0ee2-4280-93a6-1d0624aa75ae",
        "outputId": "3f53fade-68b9-4c74-8dd6-31a5dbe08a4d"
      },
      "outputs": [
        {
          "data": {
            "text/html": [
              "<div>\n",
              "<style scoped>\n",
              "    .dataframe tbody tr th:only-of-type {\n",
              "        vertical-align: middle;\n",
              "    }\n",
              "\n",
              "    .dataframe tbody tr th {\n",
              "        vertical-align: top;\n",
              "    }\n",
              "\n",
              "    .dataframe thead th {\n",
              "        text-align: right;\n",
              "    }\n",
              "</style>\n",
              "<table border=\"1\" class=\"dataframe\">\n",
              "  <thead>\n",
              "    <tr style=\"text-align: right;\">\n",
              "      <th>title</th>\n",
              "      <th>Ace Ventura: When Nature Calls (1995)</th>\n",
              "      <th>Across the Sea of Time (1995)</th>\n",
              "      <th>Amazing Panda Adventure, The (1995)</th>\n",
              "      <th>American President, The (1995)</th>\n",
              "      <th>Angela (1995)</th>\n",
              "      <th>Angels and Insects (1995)</th>\n",
              "      <th>Anne Frank Remembered (1995)</th>\n",
              "      <th>Antonia's Line (Antonia) (1995)</th>\n",
              "      <th>Assassins (1995)</th>\n",
              "      <th>Babe (1995)</th>\n",
              "      <th>...</th>\n",
              "      <th>Unforgettable (1996)</th>\n",
              "      <th>Up Close and Personal (1996)</th>\n",
              "      <th>Usual Suspects, The (1995)</th>\n",
              "      <th>Vampire in Brooklyn (1995)</th>\n",
              "      <th>Waiting to Exhale (1995)</th>\n",
              "      <th>When Night Is Falling (1995)</th>\n",
              "      <th>White Balloon, The (Badkonake sefid) (1995)</th>\n",
              "      <th>White Squall (1996)</th>\n",
              "      <th>Wings of Courage (1995)</th>\n",
              "      <th>Young Poisoner's Handbook, The (1995)</th>\n",
              "    </tr>\n",
              "    <tr>\n",
              "      <th>userId</th>\n",
              "      <th></th>\n",
              "      <th></th>\n",
              "      <th></th>\n",
              "      <th></th>\n",
              "      <th></th>\n",
              "      <th></th>\n",
              "      <th></th>\n",
              "      <th></th>\n",
              "      <th></th>\n",
              "      <th></th>\n",
              "      <th></th>\n",
              "      <th></th>\n",
              "      <th></th>\n",
              "      <th></th>\n",
              "      <th></th>\n",
              "      <th></th>\n",
              "      <th></th>\n",
              "      <th></th>\n",
              "      <th></th>\n",
              "      <th></th>\n",
              "      <th></th>\n",
              "    </tr>\n",
              "  </thead>\n",
              "  <tbody>\n",
              "    <tr>\n",
              "      <th>1</th>\n",
              "      <td>NaN</td>\n",
              "      <td>NaN</td>\n",
              "      <td>NaN</td>\n",
              "      <td>NaN</td>\n",
              "      <td>NaN</td>\n",
              "      <td>NaN</td>\n",
              "      <td>NaN</td>\n",
              "      <td>NaN</td>\n",
              "      <td>NaN</td>\n",
              "      <td>NaN</td>\n",
              "      <td>...</td>\n",
              "      <td>NaN</td>\n",
              "      <td>NaN</td>\n",
              "      <td>3.5</td>\n",
              "      <td>NaN</td>\n",
              "      <td>NaN</td>\n",
              "      <td>NaN</td>\n",
              "      <td>NaN</td>\n",
              "      <td>NaN</td>\n",
              "      <td>NaN</td>\n",
              "      <td>NaN</td>\n",
              "    </tr>\n",
              "    <tr>\n",
              "      <th>2</th>\n",
              "      <td>NaN</td>\n",
              "      <td>NaN</td>\n",
              "      <td>NaN</td>\n",
              "      <td>NaN</td>\n",
              "      <td>NaN</td>\n",
              "      <td>NaN</td>\n",
              "      <td>NaN</td>\n",
              "      <td>NaN</td>\n",
              "      <td>NaN</td>\n",
              "      <td>NaN</td>\n",
              "      <td>...</td>\n",
              "      <td>NaN</td>\n",
              "      <td>NaN</td>\n",
              "      <td>NaN</td>\n",
              "      <td>NaN</td>\n",
              "      <td>NaN</td>\n",
              "      <td>NaN</td>\n",
              "      <td>NaN</td>\n",
              "      <td>NaN</td>\n",
              "      <td>NaN</td>\n",
              "      <td>NaN</td>\n",
              "    </tr>\n",
              "    <tr>\n",
              "      <th>3</th>\n",
              "      <td>NaN</td>\n",
              "      <td>NaN</td>\n",
              "      <td>NaN</td>\n",
              "      <td>NaN</td>\n",
              "      <td>NaN</td>\n",
              "      <td>NaN</td>\n",
              "      <td>NaN</td>\n",
              "      <td>NaN</td>\n",
              "      <td>NaN</td>\n",
              "      <td>NaN</td>\n",
              "      <td>...</td>\n",
              "      <td>NaN</td>\n",
              "      <td>NaN</td>\n",
              "      <td>5.0</td>\n",
              "      <td>NaN</td>\n",
              "      <td>NaN</td>\n",
              "      <td>NaN</td>\n",
              "      <td>NaN</td>\n",
              "      <td>NaN</td>\n",
              "      <td>NaN</td>\n",
              "      <td>NaN</td>\n",
              "    </tr>\n",
              "    <tr>\n",
              "      <th>4</th>\n",
              "      <td>3.0</td>\n",
              "      <td>NaN</td>\n",
              "      <td>NaN</td>\n",
              "      <td>NaN</td>\n",
              "      <td>NaN</td>\n",
              "      <td>NaN</td>\n",
              "      <td>NaN</td>\n",
              "      <td>NaN</td>\n",
              "      <td>NaN</td>\n",
              "      <td>NaN</td>\n",
              "      <td>...</td>\n",
              "      <td>NaN</td>\n",
              "      <td>NaN</td>\n",
              "      <td>NaN</td>\n",
              "      <td>NaN</td>\n",
              "      <td>NaN</td>\n",
              "      <td>NaN</td>\n",
              "      <td>NaN</td>\n",
              "      <td>NaN</td>\n",
              "      <td>NaN</td>\n",
              "      <td>NaN</td>\n",
              "    </tr>\n",
              "    <tr>\n",
              "      <th>5</th>\n",
              "      <td>NaN</td>\n",
              "      <td>NaN</td>\n",
              "      <td>NaN</td>\n",
              "      <td>5.0</td>\n",
              "      <td>NaN</td>\n",
              "      <td>NaN</td>\n",
              "      <td>NaN</td>\n",
              "      <td>NaN</td>\n",
              "      <td>NaN</td>\n",
              "      <td>NaN</td>\n",
              "      <td>...</td>\n",
              "      <td>NaN</td>\n",
              "      <td>2.0</td>\n",
              "      <td>NaN</td>\n",
              "      <td>NaN</td>\n",
              "      <td>NaN</td>\n",
              "      <td>NaN</td>\n",
              "      <td>NaN</td>\n",
              "      <td>NaN</td>\n",
              "      <td>NaN</td>\n",
              "      <td>NaN</td>\n",
              "    </tr>\n",
              "    <tr>\n",
              "      <th>6</th>\n",
              "      <td>NaN</td>\n",
              "      <td>NaN</td>\n",
              "      <td>NaN</td>\n",
              "      <td>NaN</td>\n",
              "      <td>NaN</td>\n",
              "      <td>NaN</td>\n",
              "      <td>NaN</td>\n",
              "      <td>NaN</td>\n",
              "      <td>NaN</td>\n",
              "      <td>NaN</td>\n",
              "      <td>...</td>\n",
              "      <td>NaN</td>\n",
              "      <td>4.0</td>\n",
              "      <td>NaN</td>\n",
              "      <td>NaN</td>\n",
              "      <td>NaN</td>\n",
              "      <td>NaN</td>\n",
              "      <td>NaN</td>\n",
              "      <td>NaN</td>\n",
              "      <td>NaN</td>\n",
              "      <td>NaN</td>\n",
              "    </tr>\n",
              "    <tr>\n",
              "      <th>7</th>\n",
              "      <td>NaN</td>\n",
              "      <td>NaN</td>\n",
              "      <td>NaN</td>\n",
              "      <td>4.0</td>\n",
              "      <td>NaN</td>\n",
              "      <td>NaN</td>\n",
              "      <td>NaN</td>\n",
              "      <td>NaN</td>\n",
              "      <td>NaN</td>\n",
              "      <td>NaN</td>\n",
              "      <td>...</td>\n",
              "      <td>NaN</td>\n",
              "      <td>NaN</td>\n",
              "      <td>NaN</td>\n",
              "      <td>NaN</td>\n",
              "      <td>NaN</td>\n",
              "      <td>NaN</td>\n",
              "      <td>NaN</td>\n",
              "      <td>NaN</td>\n",
              "      <td>NaN</td>\n",
              "      <td>NaN</td>\n",
              "    </tr>\n",
              "    <tr>\n",
              "      <th>8</th>\n",
              "      <td>1.0</td>\n",
              "      <td>NaN</td>\n",
              "      <td>NaN</td>\n",
              "      <td>NaN</td>\n",
              "      <td>NaN</td>\n",
              "      <td>NaN</td>\n",
              "      <td>NaN</td>\n",
              "      <td>NaN</td>\n",
              "      <td>NaN</td>\n",
              "      <td>NaN</td>\n",
              "      <td>...</td>\n",
              "      <td>NaN</td>\n",
              "      <td>NaN</td>\n",
              "      <td>NaN</td>\n",
              "      <td>NaN</td>\n",
              "      <td>NaN</td>\n",
              "      <td>NaN</td>\n",
              "      <td>NaN</td>\n",
              "      <td>NaN</td>\n",
              "      <td>NaN</td>\n",
              "      <td>NaN</td>\n",
              "    </tr>\n",
              "    <tr>\n",
              "      <th>10</th>\n",
              "      <td>NaN</td>\n",
              "      <td>NaN</td>\n",
              "      <td>NaN</td>\n",
              "      <td>4.0</td>\n",
              "      <td>NaN</td>\n",
              "      <td>NaN</td>\n",
              "      <td>NaN</td>\n",
              "      <td>NaN</td>\n",
              "      <td>NaN</td>\n",
              "      <td>NaN</td>\n",
              "      <td>...</td>\n",
              "      <td>NaN</td>\n",
              "      <td>NaN</td>\n",
              "      <td>NaN</td>\n",
              "      <td>NaN</td>\n",
              "      <td>NaN</td>\n",
              "      <td>NaN</td>\n",
              "      <td>NaN</td>\n",
              "      <td>NaN</td>\n",
              "      <td>NaN</td>\n",
              "      <td>NaN</td>\n",
              "    </tr>\n",
              "    <tr>\n",
              "      <th>11</th>\n",
              "      <td>3.5</td>\n",
              "      <td>NaN</td>\n",
              "      <td>NaN</td>\n",
              "      <td>NaN</td>\n",
              "      <td>NaN</td>\n",
              "      <td>NaN</td>\n",
              "      <td>NaN</td>\n",
              "      <td>NaN</td>\n",
              "      <td>NaN</td>\n",
              "      <td>NaN</td>\n",
              "      <td>...</td>\n",
              "      <td>NaN</td>\n",
              "      <td>NaN</td>\n",
              "      <td>NaN</td>\n",
              "      <td>NaN</td>\n",
              "      <td>NaN</td>\n",
              "      <td>NaN</td>\n",
              "      <td>NaN</td>\n",
              "      <td>NaN</td>\n",
              "      <td>NaN</td>\n",
              "      <td>NaN</td>\n",
              "    </tr>\n",
              "  </tbody>\n",
              "</table>\n",
              "<p>10 rows × 146 columns</p>\n",
              "</div>"
            ],
            "text/plain": [
              "title   Ace Ventura: When Nature Calls (1995)  Across the Sea of Time (1995)  \\\n",
              "userId                                                                         \n",
              "1                                         NaN                            NaN   \n",
              "2                                         NaN                            NaN   \n",
              "3                                         NaN                            NaN   \n",
              "4                                         3.0                            NaN   \n",
              "5                                         NaN                            NaN   \n",
              "6                                         NaN                            NaN   \n",
              "7                                         NaN                            NaN   \n",
              "8                                         1.0                            NaN   \n",
              "10                                        NaN                            NaN   \n",
              "11                                        3.5                            NaN   \n",
              "\n",
              "title   Amazing Panda Adventure, The (1995)  American President, The (1995)  \\\n",
              "userId                                                                        \n",
              "1                                       NaN                             NaN   \n",
              "2                                       NaN                             NaN   \n",
              "3                                       NaN                             NaN   \n",
              "4                                       NaN                             NaN   \n",
              "5                                       NaN                             5.0   \n",
              "6                                       NaN                             NaN   \n",
              "7                                       NaN                             4.0   \n",
              "8                                       NaN                             NaN   \n",
              "10                                      NaN                             4.0   \n",
              "11                                      NaN                             NaN   \n",
              "\n",
              "title   Angela (1995)  Angels and Insects (1995)  \\\n",
              "userId                                             \n",
              "1                 NaN                        NaN   \n",
              "2                 NaN                        NaN   \n",
              "3                 NaN                        NaN   \n",
              "4                 NaN                        NaN   \n",
              "5                 NaN                        NaN   \n",
              "6                 NaN                        NaN   \n",
              "7                 NaN                        NaN   \n",
              "8                 NaN                        NaN   \n",
              "10                NaN                        NaN   \n",
              "11                NaN                        NaN   \n",
              "\n",
              "title   Anne Frank Remembered (1995)  Antonia's Line (Antonia) (1995)  \\\n",
              "userId                                                                  \n",
              "1                                NaN                              NaN   \n",
              "2                                NaN                              NaN   \n",
              "3                                NaN                              NaN   \n",
              "4                                NaN                              NaN   \n",
              "5                                NaN                              NaN   \n",
              "6                                NaN                              NaN   \n",
              "7                                NaN                              NaN   \n",
              "8                                NaN                              NaN   \n",
              "10                               NaN                              NaN   \n",
              "11                               NaN                              NaN   \n",
              "\n",
              "title   Assassins (1995)  Babe (1995)  ...  Unforgettable (1996)  \\\n",
              "userId                                 ...                         \n",
              "1                    NaN          NaN  ...                   NaN   \n",
              "2                    NaN          NaN  ...                   NaN   \n",
              "3                    NaN          NaN  ...                   NaN   \n",
              "4                    NaN          NaN  ...                   NaN   \n",
              "5                    NaN          NaN  ...                   NaN   \n",
              "6                    NaN          NaN  ...                   NaN   \n",
              "7                    NaN          NaN  ...                   NaN   \n",
              "8                    NaN          NaN  ...                   NaN   \n",
              "10                   NaN          NaN  ...                   NaN   \n",
              "11                   NaN          NaN  ...                   NaN   \n",
              "\n",
              "title   Up Close and Personal (1996)  Usual Suspects, The (1995)  \\\n",
              "userId                                                             \n",
              "1                                NaN                         3.5   \n",
              "2                                NaN                         NaN   \n",
              "3                                NaN                         5.0   \n",
              "4                                NaN                         NaN   \n",
              "5                                2.0                         NaN   \n",
              "6                                4.0                         NaN   \n",
              "7                                NaN                         NaN   \n",
              "8                                NaN                         NaN   \n",
              "10                               NaN                         NaN   \n",
              "11                               NaN                         NaN   \n",
              "\n",
              "title   Vampire in Brooklyn (1995)  Waiting to Exhale (1995)  \\\n",
              "userId                                                         \n",
              "1                              NaN                       NaN   \n",
              "2                              NaN                       NaN   \n",
              "3                              NaN                       NaN   \n",
              "4                              NaN                       NaN   \n",
              "5                              NaN                       NaN   \n",
              "6                              NaN                       NaN   \n",
              "7                              NaN                       NaN   \n",
              "8                              NaN                       NaN   \n",
              "10                             NaN                       NaN   \n",
              "11                             NaN                       NaN   \n",
              "\n",
              "title   When Night Is Falling (1995)  \\\n",
              "userId                                 \n",
              "1                                NaN   \n",
              "2                                NaN   \n",
              "3                                NaN   \n",
              "4                                NaN   \n",
              "5                                NaN   \n",
              "6                                NaN   \n",
              "7                                NaN   \n",
              "8                                NaN   \n",
              "10                               NaN   \n",
              "11                               NaN   \n",
              "\n",
              "title   White Balloon, The (Badkonake sefid) (1995)  White Squall (1996)  \\\n",
              "userId                                                                     \n",
              "1                                               NaN                  NaN   \n",
              "2                                               NaN                  NaN   \n",
              "3                                               NaN                  NaN   \n",
              "4                                               NaN                  NaN   \n",
              "5                                               NaN                  NaN   \n",
              "6                                               NaN                  NaN   \n",
              "7                                               NaN                  NaN   \n",
              "8                                               NaN                  NaN   \n",
              "10                                              NaN                  NaN   \n",
              "11                                              NaN                  NaN   \n",
              "\n",
              "title   Wings of Courage (1995)  Young Poisoner's Handbook, The (1995)  \n",
              "userId                                                                  \n",
              "1                           NaN                                    NaN  \n",
              "2                           NaN                                    NaN  \n",
              "3                           NaN                                    NaN  \n",
              "4                           NaN                                    NaN  \n",
              "5                           NaN                                    NaN  \n",
              "6                           NaN                                    NaN  \n",
              "7                           NaN                                    NaN  \n",
              "8                           NaN                                    NaN  \n",
              "10                          NaN                                    NaN  \n",
              "11                          NaN                                    NaN  \n",
              "\n",
              "[10 rows x 146 columns]"
            ]
          },
          "execution_count": 24,
          "metadata": {},
          "output_type": "execute_result"
        }
      ],
      "source": [
        "# lets make a pivot table in order to make rows are users and columns are movies. And values are rating\n",
        "pivot_table = data.pivot_table(index = [\"userId\"],columns = [\"title\"],values = \"rating\")\n",
        "pivot_table.head(10)\n"
      ]
    },
    {
      "cell_type": "raw",
      "id": "36ab3a07-9602-42c7-8cb4-f6095b803c4f",
      "metadata": {
        "id": "36ab3a07-9602-42c7-8cb4-f6095b803c4f"
      },
      "source": [
        "As it can be seen from table above, rows are users, columns are movies and values are ratings\n",
        "For example user 11 gives 3.5 rating to movie \"Ace Ventura: When Nature Calls (1995)\" and gives 3.0 rating to movie \"Bad Boys (1995)\".\n",
        "Now lets make a scenario, we have movie web site and \"Bad Boys (1995)\" movie are watched and rated by people. The question is that which movie do we recommend these people who watched \"Bad Boys (1995)\" movie.\n",
        "In order to answer this question we will find similarities between \"Bad Boys (1995)\" movie and other movies."
      ]
    },
    {
      "cell_type": "code",
      "execution_count": null,
      "id": "934ccdb9-4d30-4676-a3f7-32081911ede1",
      "metadata": {
        "id": "934ccdb9-4d30-4676-a3f7-32081911ede1",
        "outputId": "c9c5b311-a6c9-4b4d-fa93-60615f1f7401"
      },
      "outputs": [
        {
          "data": {
            "text/plain": [
              "title\n",
              "Bad Boys (1995)                        1.000000\n",
              "Headless Body in Topless Bar (1995)    0.723747\n",
              "Last Summer in the Hamptons (1995)     0.607554\n",
              "Two Bits (1995)                        0.507008\n",
              "Shadows (Cienie) (1988)                0.494186\n",
              "dtype: float64"
            ]
          },
          "execution_count": 22,
          "metadata": {},
          "output_type": "execute_result"
        }
      ],
      "source": [
        "movie_watched = pivot_table[\"Bad Boys (1995)\"]\n",
        "similarity_with_other_movies = pivot_table.corrwith(movie_watched)  # find correlation between \"Bad Boys (1995)\" and other movies\n",
        "similarity_with_other_movies = similarity_with_other_movies.sort_values(ascending=False)\n",
        "similarity_with_other_movies.head()"
      ]
    },
    {
      "cell_type": "raw",
      "id": "44513230-a994-4039-8bb0-df89e372fbe0",
      "metadata": {
        "id": "44513230-a994-4039-8bb0-df89e372fbe0"
      },
      "source": [
        "It can be concluded that we need to recommend \"Headless Body in Topless Bar (1995)\" movie to people who watched \"Bad Boys (1995)\".\n",
        "On the other hand even if we do not consider, number of rating for each movie is also important."
      ]
    },
    {
      "cell_type": "raw",
      "id": "a5e1d102-0de2-407b-8d18-3a7cbb1329d8",
      "metadata": {
        "id": "a5e1d102-0de2-407b-8d18-3a7cbb1329d8"
      },
      "source": [
        "What we learn is that\n",
        "\n",
        "User based recommentation systems\n",
        "Item based recommentation systems\n",
        "How to find correlation or similarity between two vectors\n",
        "Then we make very basic movie recommendation system."
      ]
    },
    {
      "cell_type": "code",
      "execution_count": null,
      "id": "d2f44e57-9620-4a01-81bb-90500ce16d70",
      "metadata": {
        "id": "d2f44e57-9620-4a01-81bb-90500ce16d70"
      },
      "outputs": [],
      "source": [
        "### Rec Sys 2"
      ]
    },
    {
      "cell_type": "code",
      "execution_count": null,
      "id": "d18803b3-3358-408f-b4bb-2964ff0f8cb1",
      "metadata": {
        "id": "d18803b3-3358-408f-b4bb-2964ff0f8cb1",
        "outputId": "13cb477e-e803-4b63-cc80-ee9231053e7b"
      },
      "outputs": [
        {
          "name": "stdout",
          "output_type": "stream",
          "text": [
            "Requirement already satisfied: scikit-surprise in /Users/thejasveedevaraj/opt/anaconda3/lib/python3.9/site-packages (1.1.3)\n",
            "Requirement already satisfied: scipy>=1.3.2 in /Users/thejasveedevaraj/opt/anaconda3/lib/python3.9/site-packages (from scikit-surprise) (1.7.1)\n",
            "Requirement already satisfied: joblib>=1.0.0 in /Users/thejasveedevaraj/opt/anaconda3/lib/python3.9/site-packages (from scikit-surprise) (1.3.1)\n",
            "Requirement already satisfied: numpy>=1.17.3 in /Users/thejasveedevaraj/opt/anaconda3/lib/python3.9/site-packages (from scikit-surprise) (1.22.4)\n"
          ]
        }
      ],
      "source": [
        "!pip install scikit-surprise"
      ]
    },
    {
      "cell_type": "code",
      "execution_count": null,
      "id": "ea286b3f-7139-4ea4-808b-8ac10f530c9c",
      "metadata": {
        "id": "ea286b3f-7139-4ea4-808b-8ac10f530c9c"
      },
      "outputs": [],
      "source": [
        "# Import required libraries\n",
        "from surprise import Reader, Dataset, SVD\n",
        "from surprise.model_selection import cross_validate"
      ]
    },
    {
      "cell_type": "code",
      "execution_count": null,
      "id": "517e4df6-a7cb-474f-bc1b-7dc71f605e5c",
      "metadata": {
        "id": "517e4df6-a7cb-474f-bc1b-7dc71f605e5c",
        "outputId": "34728fb7-d442-4d3c-b143-948c0d739f6d"
      },
      "outputs": [
        {
          "data": {
            "text/html": [
              "<div>\n",
              "<style scoped>\n",
              "    .dataframe tbody tr th:only-of-type {\n",
              "        vertical-align: middle;\n",
              "    }\n",
              "\n",
              "    .dataframe tbody tr th {\n",
              "        vertical-align: top;\n",
              "    }\n",
              "\n",
              "    .dataframe thead th {\n",
              "        text-align: right;\n",
              "    }\n",
              "</style>\n",
              "<table border=\"1\" class=\"dataframe\">\n",
              "  <thead>\n",
              "    <tr style=\"text-align: right;\">\n",
              "      <th></th>\n",
              "      <th>movieId</th>\n",
              "      <th>title</th>\n",
              "      <th>userId</th>\n",
              "      <th>rating</th>\n",
              "    </tr>\n",
              "  </thead>\n",
              "  <tbody>\n",
              "    <tr>\n",
              "      <th>0</th>\n",
              "      <td>1</td>\n",
              "      <td>Toy Story (1995)</td>\n",
              "      <td>3</td>\n",
              "      <td>4.0</td>\n",
              "    </tr>\n",
              "    <tr>\n",
              "      <th>1</th>\n",
              "      <td>1</td>\n",
              "      <td>Toy Story (1995)</td>\n",
              "      <td>6</td>\n",
              "      <td>5.0</td>\n",
              "    </tr>\n",
              "    <tr>\n",
              "      <th>2</th>\n",
              "      <td>1</td>\n",
              "      <td>Toy Story (1995)</td>\n",
              "      <td>8</td>\n",
              "      <td>4.0</td>\n",
              "    </tr>\n",
              "    <tr>\n",
              "      <th>3</th>\n",
              "      <td>1</td>\n",
              "      <td>Toy Story (1995)</td>\n",
              "      <td>10</td>\n",
              "      <td>4.0</td>\n",
              "    </tr>\n",
              "    <tr>\n",
              "      <th>4</th>\n",
              "      <td>1</td>\n",
              "      <td>Toy Story (1995)</td>\n",
              "      <td>11</td>\n",
              "      <td>4.5</td>\n",
              "    </tr>\n",
              "  </tbody>\n",
              "</table>\n",
              "</div>"
            ],
            "text/plain": [
              "   movieId             title  userId  rating\n",
              "0        1  Toy Story (1995)       3     4.0\n",
              "1        1  Toy Story (1995)       6     5.0\n",
              "2        1  Toy Story (1995)       8     4.0\n",
              "3        1  Toy Story (1995)      10     4.0\n",
              "4        1  Toy Story (1995)      11     4.5"
            ]
          },
          "execution_count": 47,
          "metadata": {},
          "output_type": "execute_result"
        }
      ],
      "source": [
        "data.head()"
      ]
    },
    {
      "cell_type": "code",
      "execution_count": null,
      "id": "a5b9788f-ba5c-4394-a525-57e16ab75d53",
      "metadata": {
        "id": "a5b9788f-ba5c-4394-a525-57e16ab75d53",
        "outputId": "9e2db41e-604f-4ba0-dd23-1f092a103d3d"
      },
      "outputs": [
        {
          "name": "stdout",
          "output_type": "stream",
          "text": [
            "Evaluating RMSE, MAE of algorithm SVD on 3 split(s).\n",
            "\n",
            "                  Fold 1  Fold 2  Fold 3  Mean    Std     \n",
            "RMSE (testset)    0.9320  0.9277  0.9262  0.9287  0.0025  \n",
            "MAE (testset)     0.7199  0.7196  0.7051  0.7149  0.0069  \n",
            "Fit time          0.70    0.84    0.73    0.76    0.06    \n",
            "Test time         0.25    0.26    0.16    0.22    0.05    \n"
          ]
        },
        {
          "data": {
            "text/plain": [
              "{'test_rmse': array([0.93202728, 0.92772153, 0.92622676]),\n",
              " 'test_mae': array([0.71985551, 0.71962599, 0.70511723]),\n",
              " 'fit_time': (0.701218843460083, 0.8377630710601807, 0.7280361652374268),\n",
              " 'test_time': (0.2500641345977783, 0.26044797897338867, 0.16017580032348633)}"
            ]
          },
          "execution_count": 48,
          "metadata": {},
          "output_type": "execute_result"
        }
      ],
      "source": [
        "# Load Reader library\n",
        "reader = Reader()\n",
        "\n",
        "# get just top 100K rows for faster run time\n",
        "data_svd = Dataset.load_from_df(data[['userId', 'movieId', 'rating']][:100000], reader)\n",
        "\n",
        "# Use the SVD algorithm.\n",
        "svd = SVD()\n",
        "\n",
        "# Compute the RMSE of the SVD algorithm\n",
        "cross_validate(svd, data_svd, measures=['RMSE', 'MAE'], cv=3, verbose=True)"
      ]
    },
    {
      "cell_type": "code",
      "execution_count": null,
      "id": "5783b1c9-7b9d-4f0a-b745-d3e84defd378",
      "metadata": {
        "id": "5783b1c9-7b9d-4f0a-b745-d3e84defd378",
        "outputId": "157d0f93-3bb5-4bde-a974-6a6891fe97a0"
      },
      "outputs": [
        {
          "data": {
            "text/html": [
              "<div>\n",
              "<style scoped>\n",
              "    .dataframe tbody tr th:only-of-type {\n",
              "        vertical-align: middle;\n",
              "    }\n",
              "\n",
              "    .dataframe tbody tr th {\n",
              "        vertical-align: top;\n",
              "    }\n",
              "\n",
              "    .dataframe thead th {\n",
              "        text-align: right;\n",
              "    }\n",
              "</style>\n",
              "<table border=\"1\" class=\"dataframe\">\n",
              "  <thead>\n",
              "    <tr style=\"text-align: right;\">\n",
              "      <th></th>\n",
              "      <th>movieId</th>\n",
              "      <th>title</th>\n",
              "      <th>userId</th>\n",
              "      <th>rating</th>\n",
              "    </tr>\n",
              "  </thead>\n",
              "  <tbody>\n",
              "    <tr>\n",
              "      <th>0</th>\n",
              "      <td>1</td>\n",
              "      <td>Toy Story (1995)</td>\n",
              "      <td>3</td>\n",
              "      <td>4.0</td>\n",
              "    </tr>\n",
              "    <tr>\n",
              "      <th>1</th>\n",
              "      <td>1</td>\n",
              "      <td>Toy Story (1995)</td>\n",
              "      <td>6</td>\n",
              "      <td>5.0</td>\n",
              "    </tr>\n",
              "    <tr>\n",
              "      <th>2</th>\n",
              "      <td>1</td>\n",
              "      <td>Toy Story (1995)</td>\n",
              "      <td>8</td>\n",
              "      <td>4.0</td>\n",
              "    </tr>\n",
              "    <tr>\n",
              "      <th>3</th>\n",
              "      <td>1</td>\n",
              "      <td>Toy Story (1995)</td>\n",
              "      <td>10</td>\n",
              "      <td>4.0</td>\n",
              "    </tr>\n",
              "    <tr>\n",
              "      <th>4</th>\n",
              "      <td>1</td>\n",
              "      <td>Toy Story (1995)</td>\n",
              "      <td>11</td>\n",
              "      <td>4.5</td>\n",
              "    </tr>\n",
              "    <tr>\n",
              "      <th>...</th>\n",
              "      <td>...</td>\n",
              "      <td>...</td>\n",
              "      <td>...</td>\n",
              "      <td>...</td>\n",
              "    </tr>\n",
              "    <tr>\n",
              "      <th>999995</th>\n",
              "      <td>147</td>\n",
              "      <td>Basketball Diaries, The (1995)</td>\n",
              "      <td>93300</td>\n",
              "      <td>4.0</td>\n",
              "    </tr>\n",
              "    <tr>\n",
              "      <th>999996</th>\n",
              "      <td>147</td>\n",
              "      <td>Basketball Diaries, The (1995)</td>\n",
              "      <td>93365</td>\n",
              "      <td>3.0</td>\n",
              "    </tr>\n",
              "    <tr>\n",
              "      <th>999997</th>\n",
              "      <td>147</td>\n",
              "      <td>Basketball Diaries, The (1995)</td>\n",
              "      <td>93411</td>\n",
              "      <td>2.5</td>\n",
              "    </tr>\n",
              "    <tr>\n",
              "      <th>999998</th>\n",
              "      <td>147</td>\n",
              "      <td>Basketball Diaries, The (1995)</td>\n",
              "      <td>93476</td>\n",
              "      <td>3.0</td>\n",
              "    </tr>\n",
              "    <tr>\n",
              "      <th>999999</th>\n",
              "      <td>147</td>\n",
              "      <td>Basketball Diaries, The (1995)</td>\n",
              "      <td>93478</td>\n",
              "      <td>5.0</td>\n",
              "    </tr>\n",
              "  </tbody>\n",
              "</table>\n",
              "<p>1000000 rows × 4 columns</p>\n",
              "</div>"
            ],
            "text/plain": [
              "        movieId                           title  userId  rating\n",
              "0             1                Toy Story (1995)       3     4.0\n",
              "1             1                Toy Story (1995)       6     5.0\n",
              "2             1                Toy Story (1995)       8     4.0\n",
              "3             1                Toy Story (1995)      10     4.0\n",
              "4             1                Toy Story (1995)      11     4.5\n",
              "...         ...                             ...     ...     ...\n",
              "999995      147  Basketball Diaries, The (1995)   93300     4.0\n",
              "999996      147  Basketball Diaries, The (1995)   93365     3.0\n",
              "999997      147  Basketball Diaries, The (1995)   93411     2.5\n",
              "999998      147  Basketball Diaries, The (1995)   93476     3.0\n",
              "999999      147  Basketball Diaries, The (1995)   93478     5.0\n",
              "\n",
              "[1000000 rows x 4 columns]"
            ]
          },
          "execution_count": 56,
          "metadata": {},
          "output_type": "execute_result"
        }
      ],
      "source": [
        "data"
      ]
    },
    {
      "cell_type": "markdown",
      "id": "b0c8cbdb-7c91-4dd5-a7e6-02fc8982dd8b",
      "metadata": {
        "id": "b0c8cbdb-7c91-4dd5-a7e6-02fc8982dd8b"
      },
      "source": [
        "## To find all the movies rated as 5 stars by user with userId = 93300"
      ]
    },
    {
      "cell_type": "code",
      "execution_count": null,
      "id": "fcc6dbab-0d59-4503-8f7f-15335d5d416a",
      "metadata": {
        "id": "fcc6dbab-0d59-4503-8f7f-15335d5d416a",
        "outputId": "8a6bd184-40f1-4ca5-9e77-1e62a840097b"
      },
      "outputs": [
        {
          "data": {
            "text/html": [
              "<div>\n",
              "<style scoped>\n",
              "    .dataframe tbody tr th:only-of-type {\n",
              "        vertical-align: middle;\n",
              "    }\n",
              "\n",
              "    .dataframe tbody tr th {\n",
              "        vertical-align: top;\n",
              "    }\n",
              "\n",
              "    .dataframe thead th {\n",
              "        text-align: right;\n",
              "    }\n",
              "</style>\n",
              "<table border=\"1\" class=\"dataframe\">\n",
              "  <thead>\n",
              "    <tr style=\"text-align: right;\">\n",
              "      <th></th>\n",
              "      <th>movieId</th>\n",
              "      <th>title</th>\n",
              "      <th>userId</th>\n",
              "      <th>rating</th>\n",
              "    </tr>\n",
              "  </thead>\n",
              "  <tbody>\n",
              "    <tr>\n",
              "      <th>115597</th>\n",
              "      <td>6</td>\n",
              "      <td>Heat (1995)</td>\n",
              "      <td>93300</td>\n",
              "      <td>5.0</td>\n",
              "    </tr>\n",
              "    <tr>\n",
              "      <th>872197</th>\n",
              "      <td>110</td>\n",
              "      <td>Braveheart (1995)</td>\n",
              "      <td>93300</td>\n",
              "      <td>5.0</td>\n",
              "    </tr>\n",
              "  </tbody>\n",
              "</table>\n",
              "</div>"
            ],
            "text/plain": [
              "        movieId              title  userId  rating\n",
              "115597        6        Heat (1995)   93300     5.0\n",
              "872197      110  Braveheart (1995)   93300     5.0"
            ]
          },
          "execution_count": 64,
          "metadata": {},
          "output_type": "execute_result"
        }
      ],
      "source": [
        "dataset_rec = data[(data['userId'] == 93300) & (data['rating'] == 5)]\n",
        "#dataset_rec = dataset_rec.set_index('movieId')\n",
        "dataset_rec.head(10)"
      ]
    },
    {
      "cell_type": "code",
      "execution_count": null,
      "id": "82151f43-ff59-42c6-a3ba-73fe28074b34",
      "metadata": {
        "id": "82151f43-ff59-42c6-a3ba-73fe28074b34",
        "outputId": "dca237e7-0b2e-4a37-976f-f5a65ff1bcc4"
      },
      "outputs": [
        {
          "data": {
            "text/plain": [
              "<surprise.prediction_algorithms.matrix_factorization.SVD at 0x7f7d00a62bb0>"
            ]
          },
          "execution_count": 65,
          "metadata": {},
          "output_type": "execute_result"
        }
      ],
      "source": [
        "svd"
      ]
    },
    {
      "cell_type": "code",
      "execution_count": null,
      "id": "a9124878-cd53-4fd5-97dc-44837c2edd8a",
      "metadata": {
        "id": "a9124878-cd53-4fd5-97dc-44837c2edd8a",
        "outputId": "bb272dc9-45d0-4eb6-fbe5-0bbc9d908760"
      },
      "outputs": [
        {
          "data": {
            "text/plain": [
              "115597    3.883448\n",
              "872197    3.531455\n",
              "Name: movieId, dtype: float64"
            ]
          },
          "execution_count": 66,
          "metadata": {},
          "output_type": "execute_result"
        }
      ],
      "source": [
        "dataset_rec['movieId'].apply(lambda x: svd.predict(93300, x).est)"
      ]
    },
    {
      "cell_type": "code",
      "execution_count": null,
      "id": "781fbba1-e7d1-47a2-a6e5-4e0a59d8e3a7",
      "metadata": {
        "id": "781fbba1-e7d1-47a2-a6e5-4e0a59d8e3a7"
      },
      "outputs": [],
      "source": []
    },
    {
      "cell_type": "code",
      "execution_count": null,
      "id": "175c2d7c-3d1d-4e58-89fd-3eeb942a24a8",
      "metadata": {
        "id": "175c2d7c-3d1d-4e58-89fd-3eeb942a24a8"
      },
      "outputs": [],
      "source": [
        "dataset_rec_02 = data[(data['userId'] == 93300) & (data['rating'] == 4)]"
      ]
    },
    {
      "cell_type": "code",
      "execution_count": null,
      "id": "7dfd0202-d064-41b7-9ec5-51e3c35f6b2d",
      "metadata": {
        "id": "7dfd0202-d064-41b7-9ec5-51e3c35f6b2d",
        "outputId": "5127636d-517f-4beb-94ef-d07f6624d8e5"
      },
      "outputs": [
        {
          "data": {
            "text/plain": [
              "260588    3.531455\n",
              "699159    3.531455\n",
              "999995    3.531455\n",
              "Name: movieId, dtype: float64"
            ]
          },
          "execution_count": 74,
          "metadata": {},
          "output_type": "execute_result"
        }
      ],
      "source": [
        "dataset_rec_02['movieId'].apply(lambda x: svd.predict(93300, x).est)"
      ]
    },
    {
      "cell_type": "code",
      "execution_count": null,
      "id": "a1392e02-f532-44d7-a59d-8ded8df273dc",
      "metadata": {
        "id": "a1392e02-f532-44d7-a59d-8ded8df273dc"
      },
      "outputs": [],
      "source": []
    },
    {
      "cell_type": "code",
      "execution_count": null,
      "id": "b22b98da-9495-4ed5-abf7-7e5355a29a69",
      "metadata": {
        "id": "b22b98da-9495-4ed5-abf7-7e5355a29a69"
      },
      "outputs": [],
      "source": [
        "df_all = pd.DataFrame(data['movieId'])['movieId'].apply(lambda x: svd.predict(93300, x).est)"
      ]
    },
    {
      "cell_type": "code",
      "execution_count": null,
      "id": "d27b21d4-85a6-43de-a155-86f8e285671a",
      "metadata": {
        "id": "d27b21d4-85a6-43de-a155-86f8e285671a",
        "outputId": "a3682c88-827c-447b-d2fc-bde83bda036a"
      },
      "outputs": [
        {
          "data": {
            "text/plain": [
              "86976    2.841732\n",
              "86410    2.841732\n",
              "86411    2.841732\n",
              "86412    2.841732\n",
              "86413    2.841732\n",
              "           ...   \n",
              "33126    3.955120\n",
              "33125    3.955120\n",
              "33124    3.955120\n",
              "33146    3.955120\n",
              "0        3.955120\n",
              "Name: movieId, Length: 1000000, dtype: float64"
            ]
          },
          "execution_count": 92,
          "metadata": {},
          "output_type": "execute_result"
        }
      ],
      "source": [
        "df_all.sort_values()"
      ]
    },
    {
      "cell_type": "code",
      "execution_count": null,
      "id": "11f2c10e-86de-40e8-a66e-e8a5ae02aca1",
      "metadata": {
        "id": "11f2c10e-86de-40e8-a66e-e8a5ae02aca1"
      },
      "outputs": [],
      "source": []
    }
  ],
  "metadata": {
    "kernelspec": {
      "display_name": "Python 3 (ipykernel)",
      "language": "python",
      "name": "python3"
    },
    "language_info": {
      "codemirror_mode": {
        "name": "ipython",
        "version": 3
      },
      "file_extension": ".py",
      "mimetype": "text/x-python",
      "name": "python",
      "nbconvert_exporter": "python",
      "pygments_lexer": "ipython3",
      "version": "3.9.7"
    },
    "colab": {
      "provenance": [],
      "include_colab_link": true
    }
  },
  "nbformat": 4,
  "nbformat_minor": 5
}